{
 "cells": [
  {
   "cell_type": "markdown",
   "metadata": {},
   "source": [
    "# Create a simple Conv Layer in TF"
   ]
  },
  {
   "cell_type": "code",
   "execution_count": 1,
   "metadata": {
    "collapsed": true
   },
   "outputs": [],
   "source": [
    "import tensorflow as tf"
   ]
  },
  {
   "cell_type": "markdown",
   "metadata": {},
   "source": [
    "## Define weights, biases, inputs"
   ]
  },
  {
   "cell_type": "code",
   "execution_count": 4,
   "metadata": {
    "collapsed": false
   },
   "outputs": [],
   "source": [
    "# output depth\n",
    "k_output = 64\n",
    "\n",
    "# input image properties\n",
    "image_width = 10\n",
    "image_height = 10\n",
    "image_color_channels = 3\n",
    "\n",
    "# convolution filter\n",
    "filter_width = 5\n",
    "filter_height = 5\n",
    "\n",
    "# Input/image\n",
    "input = tf.placeholder(tf.float32, shape=[None, image_width, image_height, image_color_channels])\n",
    "\n",
    "# weight and bias\n",
    "weights = tf.Variable(tf.truncated_normal([image_width, image_height, image_color_channels, k_output]))\n",
    "\n",
    "biases = tf.Variable(tf.zeros(k_output))"
   ]
  },
  {
   "cell_type": "markdown",
   "metadata": {},
   "source": [
    "## Apply convolution"
   ]
  },
  {
   "cell_type": "code",
   "execution_count": null,
   "metadata": {
    "collapsed": true
   },
   "outputs": [],
   "source": [
    "#   strides for each input dimension\n",
    "#   [batch, input_height, input_width, input_channels]\n",
    "conv_layer = tf.nn.conv2d(input, weights, strides=[1,2,2,1], padding='SAME')\n",
    "\n",
    "# add bias\n",
    "conv_layer = tf.nn.bias_add(conv_layer, biases)\n",
    "\n",
    "# apply activation function\n",
    "conv_layer = tf.nn.relu(conv_layer)"
   ]
  },
  {
   "cell_type": "markdown",
   "metadata": {},
   "source": [
    "## Max-pooling layer"
   ]
  },
  {
   "cell_type": "code",
   "execution_count": 6,
   "metadata": {
    "collapsed": true
   },
   "outputs": [],
   "source": [
    "# The ksize and strides parameters are structured as 4-element lists, \n",
    "# with each element corresponding to a dimension of the input tensor ([batch, height, width, channels]). \n",
    "# For both ksize and strides, the batch and channel dimensions are typically set to 1.\n",
    "\n",
    "conv_layer = tf.nn.max_pool(conv_layer,\n",
    "                           ksize=[1,2,2,1],\n",
    "                           strides=[1,2,2,1],\n",
    "                           padding='SAME')"
   ]
  },
  {
   "cell_type": "code",
   "execution_count": null,
   "metadata": {
    "collapsed": true
   },
   "outputs": [],
   "source": []
  }
 ],
 "metadata": {
  "kernelspec": {
   "display_name": "Python 3",
   "language": "python",
   "name": "python3"
  },
  "language_info": {
   "codemirror_mode": {
    "name": "ipython",
    "version": 3
   },
   "file_extension": ".py",
   "mimetype": "text/x-python",
   "name": "python",
   "nbconvert_exporter": "python",
   "pygments_lexer": "ipython3",
   "version": "3.5.2"
  },
  "widgets": {
   "state": {},
   "version": "1.1.2"
  }
 },
 "nbformat": 4,
 "nbformat_minor": 2
}
