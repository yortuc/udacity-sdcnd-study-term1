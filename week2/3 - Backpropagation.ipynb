{
 "cells": [
  {
   "cell_type": "code",
   "execution_count": 1,
   "metadata": {
    "collapsed": true
   },
   "outputs": [],
   "source": [
    "import numpy as np"
   ]
  },
  {
   "cell_type": "code",
   "execution_count": 4,
   "metadata": {
    "collapsed": false
   },
   "outputs": [
    {
     "name": "stdout",
     "output_type": "stream",
     "text": [
      "-0.317492857666 [-0.0039638  -0.01189141]\n"
     ]
    }
   ],
   "source": [
    "def sigmoid(x):\n",
    "    return 1/(1+np.exp(-x))\n",
    "\n",
    "def sigmoid_prime(x):\n",
    "    return sigmoid(x) * (1-sigmoid(x))\n",
    "\n",
    "# input\n",
    "x = np.array([0.1, 0.3])\n",
    "\n",
    "# target\n",
    "y = 0.2\n",
    "\n",
    "#weights\n",
    "w = np.array([-0.8, 0.5])\n",
    "\n",
    "learn_rate = 0.5\n",
    "\n",
    "# neural network output\n",
    "nn_output = sigmoid(np.dot(x, w))\n",
    "\n",
    "#error\n",
    "error = y - nn_output\n",
    "\n",
    "error_term = error * sigmoid_prime(np.dot(x,w))\n",
    "\n",
    "#gradient descent step\n",
    "del_w = learn_rate * error_term * x\n",
    "\n",
    "print(error, del_w)"
   ]
  },
  {
   "cell_type": "code",
   "execution_count": null,
   "metadata": {
    "collapsed": true
   },
   "outputs": [],
   "source": []
  }
 ],
 "metadata": {
  "kernelspec": {
   "display_name": "Python 3",
   "language": "python",
   "name": "python3"
  },
  "language_info": {
   "codemirror_mode": {
    "name": "ipython",
    "version": 3
   },
   "file_extension": ".py",
   "mimetype": "text/x-python",
   "name": "python",
   "nbconvert_exporter": "python",
   "pygments_lexer": "ipython3",
   "version": "3.5.2"
  },
  "widgets": {
   "state": {},
   "version": "1.1.2"
  }
 },
 "nbformat": 4,
 "nbformat_minor": 2
}
